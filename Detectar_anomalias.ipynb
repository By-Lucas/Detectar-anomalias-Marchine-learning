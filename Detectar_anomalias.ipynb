{
  "nbformat": 4,
  "nbformat_minor": 0,
  "metadata": {
    "colab": {
      "name": "Detectar_anomalias.ipynb",
      "provenance": [],
      "collapsed_sections": [],
      "authorship_tag": "ABX9TyOJpZW1SntDBGYT9XYEngZq",
      "include_colab_link": true
    },
    "kernelspec": {
      "name": "python3",
      "display_name": "Python 3"
    },
    "language_info": {
      "name": "python"
    }
  },
  "cells": [
    {
      "cell_type": "markdown",
      "metadata": {
        "id": "view-in-github",
        "colab_type": "text"
      },
      "source": [
        "<a href=\"https://colab.research.google.com/github/By-Lucas/Detectar-anomalias-Marchine-learning/blob/main/Detectar_anomalias.ipynb\" target=\"_parent\"><img src=\"https://colab.research.google.com/assets/colab-badge.svg\" alt=\"Open In Colab\"/></a>"
      ]
    },
    {
      "cell_type": "markdown",
      "source": [
        "# **Detecção de anomalias**\n"
      ],
      "metadata": {
        "id": "tq6aaLl19aFt"
      }
    },
    {
      "cell_type": "markdown",
      "source": [
        "##Instalar Bibliotecas"
      ],
      "metadata": {
        "id": "qoI0-Cng9zfi"
      }
    },
    {
      "cell_type": "code",
      "source": [
        "!pip install pandas\n",
        "!pip install numpy\n",
        "!pip install scipy\n",
        "!pip install sklearn\n",
        "!pip install matplotlib"
      ],
      "metadata": {
        "colab": {
          "base_uri": "https://localhost:8080/"
        },
        "id": "e27Ae7rS9oZ9",
        "outputId": "36e9b663-f923-4d24-b034-cc926b219c99"
      },
      "execution_count": 62,
      "outputs": [
        {
          "output_type": "stream",
          "name": "stdout",
          "text": [
            "Requirement already satisfied: pandas in /usr/local/lib/python3.7/dist-packages (1.3.5)\n",
            "Requirement already satisfied: numpy>=1.17.3 in /usr/local/lib/python3.7/dist-packages (from pandas) (1.21.6)\n",
            "Requirement already satisfied: python-dateutil>=2.7.3 in /usr/local/lib/python3.7/dist-packages (from pandas) (2.8.2)\n",
            "Requirement already satisfied: pytz>=2017.3 in /usr/local/lib/python3.7/dist-packages (from pandas) (2022.1)\n",
            "Requirement already satisfied: six>=1.5 in /usr/local/lib/python3.7/dist-packages (from python-dateutil>=2.7.3->pandas) (1.15.0)\n",
            "Requirement already satisfied: numpy in /usr/local/lib/python3.7/dist-packages (1.21.6)\n",
            "Requirement already satisfied: scipy in /usr/local/lib/python3.7/dist-packages (1.4.1)\n",
            "Requirement already satisfied: numpy>=1.13.3 in /usr/local/lib/python3.7/dist-packages (from scipy) (1.21.6)\n",
            "Requirement already satisfied: sklearn in /usr/local/lib/python3.7/dist-packages (0.0)\n",
            "Requirement already satisfied: scikit-learn in /usr/local/lib/python3.7/dist-packages (from sklearn) (1.0.2)\n",
            "Requirement already satisfied: numpy>=1.14.6 in /usr/local/lib/python3.7/dist-packages (from scikit-learn->sklearn) (1.21.6)\n",
            "Requirement already satisfied: joblib>=0.11 in /usr/local/lib/python3.7/dist-packages (from scikit-learn->sklearn) (1.1.0)\n",
            "Requirement already satisfied: scipy>=1.1.0 in /usr/local/lib/python3.7/dist-packages (from scikit-learn->sklearn) (1.4.1)\n",
            "Requirement already satisfied: threadpoolctl>=2.0.0 in /usr/local/lib/python3.7/dist-packages (from scikit-learn->sklearn) (3.1.0)\n",
            "Requirement already satisfied: matplotlib in /usr/local/lib/python3.7/dist-packages (3.2.2)\n",
            "Requirement already satisfied: pyparsing!=2.0.4,!=2.1.2,!=2.1.6,>=2.0.1 in /usr/local/lib/python3.7/dist-packages (from matplotlib) (3.0.8)\n",
            "Requirement already satisfied: numpy>=1.11 in /usr/local/lib/python3.7/dist-packages (from matplotlib) (1.21.6)\n",
            "Requirement already satisfied: python-dateutil>=2.1 in /usr/local/lib/python3.7/dist-packages (from matplotlib) (2.8.2)\n",
            "Requirement already satisfied: kiwisolver>=1.0.1 in /usr/local/lib/python3.7/dist-packages (from matplotlib) (1.4.2)\n",
            "Requirement already satisfied: cycler>=0.10 in /usr/local/lib/python3.7/dist-packages (from matplotlib) (0.11.0)\n",
            "Requirement already satisfied: typing-extensions in /usr/local/lib/python3.7/dist-packages (from kiwisolver>=1.0.1->matplotlib) (4.2.0)\n",
            "Requirement already satisfied: six>=1.5 in /usr/local/lib/python3.7/dist-packages (from python-dateutil>=2.1->matplotlib) (1.15.0)\n"
          ]
        }
      ]
    },
    {
      "cell_type": "code",
      "source": [
        "# IMPORTA BIBLIOTECAS\n",
        "\n",
        "%matplotlib inline\n",
        "#import matplotlib\n",
        "import pylab\n",
        "import numpy as np\n",
        "import pandas as pd\n",
        "from sklearn.svm import OneClassSVM\n",
        "from sklearn.covariance import EllipticEnvelope\n",
        "\n",
        "pylab.rcParams.update({'font.size': 14})"
      ],
      "metadata": {
        "id": "xs43J3Vc-hvz"
      },
      "execution_count": 63,
      "outputs": []
    },
    {
      "cell_type": "markdown",
      "source": [
        "## Ler CSV"
      ],
      "metadata": {
        "id": "xI71Ha0kSB7H"
      }
    },
    {
      "cell_type": "code",
      "source": [
        "# Arquivo a ser buscadi\n",
        "df = pd.read_csv('/content/AnomalyData.csv')\n"
      ],
      "metadata": {
        "id": "U4uCL77MBcYN"
      },
      "execution_count": 64,
      "outputs": []
    },
    {
      "cell_type": "code",
      "source": [
        "df.head()"
      ],
      "metadata": {
        "colab": {
          "base_uri": "https://localhost:8080/",
          "height": 317
        },
        "id": "EQafBzzwrsqH",
        "outputId": "26639876-e5b3-45d6-d71b-a68d32cb6a04"
      },
      "execution_count": 65,
      "outputs": [
        {
          "output_type": "execute_result",
          "data": {
            "text/plain": [
              "        State state_code  data science  cluster analysis  college  startup  \\\n",
              "0     Alabama         AL         -1.00             -0.13     1.10    -0.68   \n",
              "1     Arizona         AZ         -0.42             -0.73    -0.10     0.11   \n",
              "2    Arkansas         AR         -0.66             -0.39    -0.64    -0.08   \n",
              "3  California         CA          1.95             -0.62    -0.26     2.02   \n",
              "4    Colorado         CO          0.34              0.00    -0.61     1.49   \n",
              "\n",
              "   entrepreneur   ceo  mortgage   nba  ...  obfuscation  unicorn  \\\n",
              "0          0.15 -0.73      1.53 -0.74  ...        -0.32    -1.03   \n",
              "1          0.57  0.25      0.95  0.38  ...         0.38     0.10   \n",
              "2          0.01 -0.66     -0.50 -0.71  ...        -0.45    -0.32   \n",
              "3          0.46  1.27     -0.97  1.46  ...         0.70    -0.38   \n",
              "4          0.05  0.33      1.38 -0.80  ...         1.32     0.20   \n",
              "\n",
              "   Extraversion  Agreeableness  Conscientiousness  Neuroticism  Openness  \\\n",
              "0          55.5           52.7               55.5         48.7      42.7   \n",
              "1          50.6           46.6               58.4         38.1      54.7   \n",
              "2          49.9           52.7               41.0         56.2      40.3   \n",
              "3          51.4           49.0               43.2         39.1      65.0   \n",
              "4          45.3           47.5               58.8         34.3      57.9   \n",
              "\n",
              "   PsychRegions  region  division  \n",
              "0             1       3         6  \n",
              "1             2       4         8  \n",
              "2             1       3         7  \n",
              "3             2       4         9  \n",
              "4             1       4         8  \n",
              "\n",
              "[5 rows x 30 columns]"
            ],
            "text/html": [
              "\n",
              "  <div id=\"df-862771ae-b2cc-4b75-b687-cf01ae67173d\">\n",
              "    <div class=\"colab-df-container\">\n",
              "      <div>\n",
              "<style scoped>\n",
              "    .dataframe tbody tr th:only-of-type {\n",
              "        vertical-align: middle;\n",
              "    }\n",
              "\n",
              "    .dataframe tbody tr th {\n",
              "        vertical-align: top;\n",
              "    }\n",
              "\n",
              "    .dataframe thead th {\n",
              "        text-align: right;\n",
              "    }\n",
              "</style>\n",
              "<table border=\"1\" class=\"dataframe\">\n",
              "  <thead>\n",
              "    <tr style=\"text-align: right;\">\n",
              "      <th></th>\n",
              "      <th>State</th>\n",
              "      <th>state_code</th>\n",
              "      <th>data science</th>\n",
              "      <th>cluster analysis</th>\n",
              "      <th>college</th>\n",
              "      <th>startup</th>\n",
              "      <th>entrepreneur</th>\n",
              "      <th>ceo</th>\n",
              "      <th>mortgage</th>\n",
              "      <th>nba</th>\n",
              "      <th>...</th>\n",
              "      <th>obfuscation</th>\n",
              "      <th>unicorn</th>\n",
              "      <th>Extraversion</th>\n",
              "      <th>Agreeableness</th>\n",
              "      <th>Conscientiousness</th>\n",
              "      <th>Neuroticism</th>\n",
              "      <th>Openness</th>\n",
              "      <th>PsychRegions</th>\n",
              "      <th>region</th>\n",
              "      <th>division</th>\n",
              "    </tr>\n",
              "  </thead>\n",
              "  <tbody>\n",
              "    <tr>\n",
              "      <th>0</th>\n",
              "      <td>Alabama</td>\n",
              "      <td>AL</td>\n",
              "      <td>-1.00</td>\n",
              "      <td>-0.13</td>\n",
              "      <td>1.10</td>\n",
              "      <td>-0.68</td>\n",
              "      <td>0.15</td>\n",
              "      <td>-0.73</td>\n",
              "      <td>1.53</td>\n",
              "      <td>-0.74</td>\n",
              "      <td>...</td>\n",
              "      <td>-0.32</td>\n",
              "      <td>-1.03</td>\n",
              "      <td>55.5</td>\n",
              "      <td>52.7</td>\n",
              "      <td>55.5</td>\n",
              "      <td>48.7</td>\n",
              "      <td>42.7</td>\n",
              "      <td>1</td>\n",
              "      <td>3</td>\n",
              "      <td>6</td>\n",
              "    </tr>\n",
              "    <tr>\n",
              "      <th>1</th>\n",
              "      <td>Arizona</td>\n",
              "      <td>AZ</td>\n",
              "      <td>-0.42</td>\n",
              "      <td>-0.73</td>\n",
              "      <td>-0.10</td>\n",
              "      <td>0.11</td>\n",
              "      <td>0.57</td>\n",
              "      <td>0.25</td>\n",
              "      <td>0.95</td>\n",
              "      <td>0.38</td>\n",
              "      <td>...</td>\n",
              "      <td>0.38</td>\n",
              "      <td>0.10</td>\n",
              "      <td>50.6</td>\n",
              "      <td>46.6</td>\n",
              "      <td>58.4</td>\n",
              "      <td>38.1</td>\n",
              "      <td>54.7</td>\n",
              "      <td>2</td>\n",
              "      <td>4</td>\n",
              "      <td>8</td>\n",
              "    </tr>\n",
              "    <tr>\n",
              "      <th>2</th>\n",
              "      <td>Arkansas</td>\n",
              "      <td>AR</td>\n",
              "      <td>-0.66</td>\n",
              "      <td>-0.39</td>\n",
              "      <td>-0.64</td>\n",
              "      <td>-0.08</td>\n",
              "      <td>0.01</td>\n",
              "      <td>-0.66</td>\n",
              "      <td>-0.50</td>\n",
              "      <td>-0.71</td>\n",
              "      <td>...</td>\n",
              "      <td>-0.45</td>\n",
              "      <td>-0.32</td>\n",
              "      <td>49.9</td>\n",
              "      <td>52.7</td>\n",
              "      <td>41.0</td>\n",
              "      <td>56.2</td>\n",
              "      <td>40.3</td>\n",
              "      <td>1</td>\n",
              "      <td>3</td>\n",
              "      <td>7</td>\n",
              "    </tr>\n",
              "    <tr>\n",
              "      <th>3</th>\n",
              "      <td>California</td>\n",
              "      <td>CA</td>\n",
              "      <td>1.95</td>\n",
              "      <td>-0.62</td>\n",
              "      <td>-0.26</td>\n",
              "      <td>2.02</td>\n",
              "      <td>0.46</td>\n",
              "      <td>1.27</td>\n",
              "      <td>-0.97</td>\n",
              "      <td>1.46</td>\n",
              "      <td>...</td>\n",
              "      <td>0.70</td>\n",
              "      <td>-0.38</td>\n",
              "      <td>51.4</td>\n",
              "      <td>49.0</td>\n",
              "      <td>43.2</td>\n",
              "      <td>39.1</td>\n",
              "      <td>65.0</td>\n",
              "      <td>2</td>\n",
              "      <td>4</td>\n",
              "      <td>9</td>\n",
              "    </tr>\n",
              "    <tr>\n",
              "      <th>4</th>\n",
              "      <td>Colorado</td>\n",
              "      <td>CO</td>\n",
              "      <td>0.34</td>\n",
              "      <td>0.00</td>\n",
              "      <td>-0.61</td>\n",
              "      <td>1.49</td>\n",
              "      <td>0.05</td>\n",
              "      <td>0.33</td>\n",
              "      <td>1.38</td>\n",
              "      <td>-0.80</td>\n",
              "      <td>...</td>\n",
              "      <td>1.32</td>\n",
              "      <td>0.20</td>\n",
              "      <td>45.3</td>\n",
              "      <td>47.5</td>\n",
              "      <td>58.8</td>\n",
              "      <td>34.3</td>\n",
              "      <td>57.9</td>\n",
              "      <td>1</td>\n",
              "      <td>4</td>\n",
              "      <td>8</td>\n",
              "    </tr>\n",
              "  </tbody>\n",
              "</table>\n",
              "<p>5 rows × 30 columns</p>\n",
              "</div>\n",
              "      <button class=\"colab-df-convert\" onclick=\"convertToInteractive('df-862771ae-b2cc-4b75-b687-cf01ae67173d')\"\n",
              "              title=\"Convert this dataframe to an interactive table.\"\n",
              "              style=\"display:none;\">\n",
              "        \n",
              "  <svg xmlns=\"http://www.w3.org/2000/svg\" height=\"24px\"viewBox=\"0 0 24 24\"\n",
              "       width=\"24px\">\n",
              "    <path d=\"M0 0h24v24H0V0z\" fill=\"none\"/>\n",
              "    <path d=\"M18.56 5.44l.94 2.06.94-2.06 2.06-.94-2.06-.94-.94-2.06-.94 2.06-2.06.94zm-11 1L8.5 8.5l.94-2.06 2.06-.94-2.06-.94L8.5 2.5l-.94 2.06-2.06.94zm10 10l.94 2.06.94-2.06 2.06-.94-2.06-.94-.94-2.06-.94 2.06-2.06.94z\"/><path d=\"M17.41 7.96l-1.37-1.37c-.4-.4-.92-.59-1.43-.59-.52 0-1.04.2-1.43.59L10.3 9.45l-7.72 7.72c-.78.78-.78 2.05 0 2.83L4 21.41c.39.39.9.59 1.41.59.51 0 1.02-.2 1.41-.59l7.78-7.78 2.81-2.81c.8-.78.8-2.07 0-2.86zM5.41 20L4 18.59l7.72-7.72 1.47 1.35L5.41 20z\"/>\n",
              "  </svg>\n",
              "      </button>\n",
              "      \n",
              "  <style>\n",
              "    .colab-df-container {\n",
              "      display:flex;\n",
              "      flex-wrap:wrap;\n",
              "      gap: 12px;\n",
              "    }\n",
              "\n",
              "    .colab-df-convert {\n",
              "      background-color: #E8F0FE;\n",
              "      border: none;\n",
              "      border-radius: 50%;\n",
              "      cursor: pointer;\n",
              "      display: none;\n",
              "      fill: #1967D2;\n",
              "      height: 32px;\n",
              "      padding: 0 0 0 0;\n",
              "      width: 32px;\n",
              "    }\n",
              "\n",
              "    .colab-df-convert:hover {\n",
              "      background-color: #E2EBFA;\n",
              "      box-shadow: 0px 1px 2px rgba(60, 64, 67, 0.3), 0px 1px 3px 1px rgba(60, 64, 67, 0.15);\n",
              "      fill: #174EA6;\n",
              "    }\n",
              "\n",
              "    [theme=dark] .colab-df-convert {\n",
              "      background-color: #3B4455;\n",
              "      fill: #D2E3FC;\n",
              "    }\n",
              "\n",
              "    [theme=dark] .colab-df-convert:hover {\n",
              "      background-color: #434B5C;\n",
              "      box-shadow: 0px 1px 3px 1px rgba(0, 0, 0, 0.15);\n",
              "      filter: drop-shadow(0px 1px 2px rgba(0, 0, 0, 0.3));\n",
              "      fill: #FFFFFF;\n",
              "    }\n",
              "  </style>\n",
              "\n",
              "      <script>\n",
              "        const buttonEl =\n",
              "          document.querySelector('#df-862771ae-b2cc-4b75-b687-cf01ae67173d button.colab-df-convert');\n",
              "        buttonEl.style.display =\n",
              "          google.colab.kernel.accessAllowed ? 'block' : 'none';\n",
              "\n",
              "        async function convertToInteractive(key) {\n",
              "          const element = document.querySelector('#df-862771ae-b2cc-4b75-b687-cf01ae67173d');\n",
              "          const dataTable =\n",
              "            await google.colab.kernel.invokeFunction('convertToInteractive',\n",
              "                                                     [key], {});\n",
              "          if (!dataTable) return;\n",
              "\n",
              "          const docLinkHtml = 'Like what you see? Visit the ' +\n",
              "            '<a target=\"_blank\" href=https://colab.research.google.com/notebooks/data_table.ipynb>data table notebook</a>'\n",
              "            + ' to learn more about interactive tables.';\n",
              "          element.innerHTML = '';\n",
              "          dataTable['output_type'] = 'display_data';\n",
              "          await google.colab.output.renderOutput(dataTable, element);\n",
              "          const docLink = document.createElement('div');\n",
              "          docLink.innerHTML = docLinkHtml;\n",
              "          element.appendChild(docLink);\n",
              "        }\n",
              "      </script>\n",
              "    </div>\n",
              "  </div>\n",
              "  "
            ]
          },
          "metadata": {},
          "execution_count": 65
        }
      ]
    },
    {
      "cell_type": "markdown",
      "source": [
        "Salvar state_code para rotular valores discrepantes. \"data\" contém apenas variáveis quantitativas."
      ],
      "metadata": {
        "id": "7s_MEOIDSHx3"
      }
    },
    {
      "cell_type": "code",
      "source": [
        "state_code = df[\"state_code\"]\n",
        "data = df.loc[:, \"data science\": \"Openness\"]\n"
      ],
      "metadata": {
        "id": "fX924kYQuyWi"
      },
      "execution_count": 66,
      "outputs": []
    },
    {
      "cell_type": "markdown",
      "source": [
        "## Valores discrepantes univariados \n",
        "Criar diagrama em caixa para exibir valores discrepantes univariados sobre \"modern dance.\""
      ],
      "metadata": {
        "id": "ORc2RSdRynD6"
      }
    },
    {
      "cell_type": "code",
      "source": [
        "param = \"modern dance\""
      ],
      "metadata": {
        "id": "xezpzjD4y0Km"
      },
      "execution_count": 67,
      "outputs": []
    },
    {
      "cell_type": "markdown",
      "source": [
        "Obter valores dos quantis e amplitude interquartis dos limites dos valores discrepantes."
      ],
      "metadata": {
        "id": "N_tM0m3i1ZuT"
      }
    },
    {
      "cell_type": "code",
      "source": [
        "qv1 = data[param].quantile(0.25)\n",
        "qv2 = data[param].quantile(0.5)\n",
        "qv3 = data[param].quantile(0.75)\n",
        "qv_limit = 1.5 * (qv3 - qv1)"
      ],
      "metadata": {
        "id": "uGo2WURK1a6K"
      },
      "execution_count": 68,
      "outputs": []
    },
    {
      "cell_type": "markdown",
      "source": [
        "Obter posição dos valores discrepantes e usar state_code para rótulos."
      ],
      "metadata": {
        "id": "OatnfVG17hov"
      }
    },
    {
      "cell_type": "code",
      "source": [
        "un_outliers_mask = (data[param] > qv3 + qv_limit) | (data[param] < qv1 - qv_limit)\n",
        "un_outliers_data = data[param][un_outliers_mask]\n",
        "un_outliers_name = state_code[un_outliers_mask]"
      ],
      "metadata": {
        "id": "-WuaM67_7tC4"
      },
      "execution_count": 69,
      "outputs": []
    },
    {
      "cell_type": "markdown",
      "source": [
        "Criar diagrama em caixa usando \"modern dance.\""
      ],
      "metadata": {
        "id": "betm7do5SVRF"
      }
    },
    {
      "cell_type": "code",
      "source": [
        "fig = pylab.figure(figsize=(4,6))\n",
        "ax = fig.add_subplot(1, 1, 1)\n",
        "for name, y in zip(un_outliers_name, un_outliers_data):\n",
        "  ax.text(1, y, name)\n",
        "ax.boxplot(data[param])\n",
        "ax.set_ylabel(param)"
      ],
      "metadata": {
        "colab": {
          "base_uri": "https://localhost:8080/",
          "height": 396
        },
        "id": "gu3SfXLS_d2W",
        "outputId": "ffbc1329-c373-4529-f319-5e238a058ffc"
      },
      "execution_count": 70,
      "outputs": [
        {
          "output_type": "execute_result",
          "data": {
            "text/plain": [
              "Text(0, 0.5, 'modern dance')"
            ]
          },
          "metadata": {},
          "execution_count": 70
        },
        {
          "output_type": "display_data",
          "data": {
            "text/plain": [
              "<Figure size 288x432 with 1 Axes>"
            ],
            "image/png": "[encoded data removed]"
          },
          "metadata": {
            "needs_background": "light"
          }
        }
      ]
    },
    {
      "cell_type": "markdown",
      "source": [
        "##  Valores discrepantes bivariados\n",
        "Criar diagrama de dispersão com elipse como limite para valores discrepantes.\n",
        "\n",
        "Usar os termos de pesquisa no Google \"data science\" e \"ceo\" neste exemplo."
      ],
      "metadata": {
        "id": "uwelYhhUEYjt"
      }
    },
    {
      "cell_type": "code",
      "source": [
        "params = [\"data science\", \"ceo\"]\n",
        "params_data = np.array([df[params[0]], df[params[1]]]).T"
      ],
      "metadata": {
        "id": "GB56tzP0Ewox"
      },
      "execution_count": 71,
      "outputs": []
    },
    {
      "cell_type": "markdown",
      "source": [
        "Computar o \"envelope elíptico.\""
      ],
      "metadata": {
        "id": "1ux_8_KVFASk"
      }
    },
    {
      "cell_type": "code",
      "source": [
        "ee = EllipticEnvelope()\n",
        "ee.fit(params_data)"
      ],
      "metadata": {
        "colab": {
          "base_uri": "https://localhost:8080/"
        },
        "id": "JgvAEhgzFJZl",
        "outputId": "72404bcc-e187-4690-fb43-42a4c309ab0d"
      },
      "execution_count": 72,
      "outputs": [
        {
          "output_type": "execute_result",
          "data": {
            "text/plain": [
              "EllipticEnvelope()"
            ]
          },
          "metadata": {},
          "execution_count": 72
        }
      ]
    },
    {
      "cell_type": "markdown",
      "source": [
        "Obter o nome e a posição dos valores discrepantes."
      ],
      "metadata": {
        "id": "dTQUNrmfJhSI"
      }
    },
    {
      "cell_type": "code",
      "source": [
        "biv_outliers_mask = ee.predict(params_data) == -1\n",
        "biv_outliers_data = params_data[biv_outliers_mask]\n",
        "biv_outliers_name = state_code[biv_outliers_mask]"
      ],
      "metadata": {
        "id": "w-kxg7rfJdjh"
      },
      "execution_count": 73,
      "outputs": []
    },
    {
      "cell_type": "markdown",
      "source": [
        "Calcular o limite de decisão do diagrama de dispersão."
      ],
      "metadata": {
        "id": "1dzQ7XG1JkSB"
      }
    },
    {
      "cell_type": "code",
      "source": [
        "xx, yy = np.meshgrid(np.linspace(params_data[:, 0].min(), params_data[:, 0].max(), 100),\n",
        "                     np.linspace(params_data[:, 1].min(), params_data[:, 1].max(), 100))\n",
        "zz = ee.decision_function(np.c_[xx.ravel(), yy.ravel()])\n",
        "zz = zz.reshape(xx.shape)"
      ],
      "metadata": {
        "id": "lVuv9mv7Jmoc"
      },
      "execution_count": 74,
      "outputs": []
    },
    {
      "cell_type": "markdown",
      "source": [
        "Traçar diagrama de dispersão com envelope elíptico e rotular valores discrepantes."
      ],
      "metadata": {
        "id": "e27kPxy-Jnwb"
      }
    },
    {
      "cell_type": "code",
      "source": [
        "fig = pylab.figure(figsize=(10,10))\n",
        "ax = fig.add_subplot(1, 1, 1)\n",
        "for name, xy in zip(biv_outliers_name, biv_outliers_data):\n",
        "    ax.text(xy[0], xy[1], name)\n",
        "ax.contour(xx, yy, zz, levels=[0], linewidths=2)\n",
        "ax.scatter(params_data[:, 0], params_data[:, 1], color='black')\n",
        "ax.set_xlabel(params[0])\n",
        "ax.set_ylabel(params[1])"
      ],
      "metadata": {
        "colab": {
          "base_uri": "https://localhost:8080/",
          "height": 634
        },
        "id": "J4C7LEHsJqEs",
        "outputId": "b3202a45-c232-450c-d8d8-e385a1784c75"
      },
      "execution_count": 75,
      "outputs": [
        {
          "output_type": "execute_result",
          "data": {
            "text/plain": [
              "Text(0, 0.5, 'ceo')"
            ]
          },
          "metadata": {},
          "execution_count": 75
        },
        {
          "output_type": "display_data",
          "data": {
            "text/plain": [
              "<Figure size 720x720 with 1 Axes>"
            ],
            "image/png": "[encoded data removed]"
          },
          "metadata": {
            "needs_background": "light"
          }
        }
      ]
    },
    {
      "cell_type": "markdown",
      "source": [
        "##  Valores discrepantes multivariados\n",
        "Usar o algoritmo para máquinas de vetores de suporte (SVM) de uma classe para classificar casos incomuns."
      ],
      "metadata": {
        "id": "D5CwRCmRJuns"
      }
    },
    {
      "cell_type": "code",
      "source": [
        "ocsvm = OneClassSVM(nu=0.25, gamma=0.05)\n",
        "ocsvm.fit(data)"
      ],
      "metadata": {
        "colab": {
          "base_uri": "https://localhost:8080/"
        },
        "id": "Yy0pjNNIJvh4",
        "outputId": "2ef2230c-6fd8-48f9-c6f1-41e9bb7c487c"
      },
      "execution_count": 76,
      "outputs": [
        {
          "output_type": "execute_result",
          "data": {
            "text/plain": [
              "OneClassSVM(gamma=0.05, nu=0.25)"
            ]
          },
          "metadata": {},
          "execution_count": 76
        }
      ]
    },
    {
      "cell_type": "markdown",
      "source": [
        "Listar nomes dos estados com valores discrepantes com base na SVM de uma classe."
      ],
      "metadata": {
        "id": "pjPb8yv5Jw2E"
      }
    },
    {
      "cell_type": "code",
      "source": [
        "# \n",
        "state_code[ocsvm.predict(data) == -1]"
      ],
      "metadata": {
        "colab": {
          "base_uri": "https://localhost:8080/"
        },
        "id": "4M3CXhu1J109",
        "outputId": "7b05b894-e007-4e8b-fbe2-685e7cb8c6f2"
      },
      "execution_count": 77,
      "outputs": [
        {
          "output_type": "execute_result",
          "data": {
            "text/plain": [
              "7     FL\n",
              "13    KS\n",
              "14    KY\n",
              "16    ME\n",
              "17    MD\n",
              "18    MA\n",
              "19    MI\n",
              "20    MN\n",
              "21    MS\n",
              "24    NE\n",
              "25    NV\n",
              "27    NJ\n",
              "28    NM\n",
              "30    NC\n",
              "33    OK\n",
              "39    TN\n",
              "43    VA\n",
              "Name: state_code, dtype: object"
            ]
          },
          "metadata": {},
          "execution_count": 77
        }
      ]
    }
  ]
}